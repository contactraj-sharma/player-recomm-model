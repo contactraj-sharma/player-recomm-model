{
 "cells": [
  {
   "cell_type": "markdown",
   "metadata": {
    "colab_type": "text",
    "id": "view-in-github"
   },
   "source": [
    "<a href=\"https://colab.research.google.com/github/pkpk1717/FIFA-19-player-recommender-system/blob/master/FIFA_19_Player_similar_recommender.ipynb\" target=\"_parent\"><img src=\"https://colab.research.google.com/assets/colab-badge.svg\" alt=\"Open In Colab\"/></a>"
   ]
  },
  {
   "cell_type": "code",
   "execution_count": 1,
   "metadata": {
    "colab": {
     "base_uri": "https://localhost:8080/",
     "height": 51
    },
    "colab_type": "code",
    "id": "Iwfu5roqqmMX",
    "outputId": "bbfcb2ae-d396-4aa1-e0bc-39002defa705"
   },
   "outputs": [
    {
     "name": "stdout",
     "output_type": "stream",
     "text": [
      "/bin/sh: pip: command not found\r\n"
     ]
    },
    {
     "ename": "ImportError",
     "evalue": "No module named 'pydrive'",
     "output_type": "error",
     "traceback": [
      "\u001b[0;31m---------------------------------------------------------------------------\u001b[0m",
      "\u001b[0;31mImportError\u001b[0m                               Traceback (most recent call last)",
      "\u001b[0;32m<ipython-input-1-02792ae00325>\u001b[0m in \u001b[0;36m<module>\u001b[0;34m()\u001b[0m\n\u001b[1;32m      7\u001b[0m \u001b[0;34m\u001b[0m\u001b[0m\n\u001b[1;32m      8\u001b[0m \u001b[0mget_ipython\u001b[0m\u001b[0;34m(\u001b[0m\u001b[0;34m)\u001b[0m\u001b[0;34m.\u001b[0m\u001b[0msystem\u001b[0m\u001b[0;34m(\u001b[0m\u001b[0;34m'pip install -U -q PyDrive'\u001b[0m\u001b[0;34m)\u001b[0m\u001b[0;34m\u001b[0m\u001b[0m\n\u001b[0;32m----> 9\u001b[0;31m \u001b[0;32mfrom\u001b[0m \u001b[0mpydrive\u001b[0m\u001b[0;34m.\u001b[0m\u001b[0mauth\u001b[0m \u001b[0;32mimport\u001b[0m \u001b[0mGoogleAuth\u001b[0m\u001b[0;34m\u001b[0m\u001b[0m\n\u001b[0m\u001b[1;32m     10\u001b[0m \u001b[0;32mfrom\u001b[0m \u001b[0mpydrive\u001b[0m\u001b[0;34m.\u001b[0m\u001b[0mdrive\u001b[0m \u001b[0;32mimport\u001b[0m \u001b[0mGoogleDrive\u001b[0m\u001b[0;34m\u001b[0m\u001b[0m\n\u001b[1;32m     11\u001b[0m \u001b[0;32mfrom\u001b[0m \u001b[0mgoogle\u001b[0m\u001b[0;34m.\u001b[0m\u001b[0mcolab\u001b[0m \u001b[0;32mimport\u001b[0m \u001b[0mauth\u001b[0m\u001b[0;34m\u001b[0m\u001b[0m\n",
      "\u001b[0;31mImportError\u001b[0m: No module named 'pydrive'"
     ]
    }
   ],
   "source": [
    "import matplotlib.pyplot as plt\n",
    "import pandas as pd\n",
    "import numpy as np\n",
    "import seaborn as sns\n",
    "%matplotlib inline\n",
    "\n",
    "\n",
    "!pip install -U -q PyDrive\n",
    "from pydrive.auth import GoogleAuth\n",
    "from pydrive.drive import GoogleDrive\n",
    "from google.colab import auth\n",
    "from oauth2client.client import GoogleCredentials\n",
    "import zipfile\n",
    "import os\n",
    "import shutil\n"
   ]
  },
  {
   "cell_type": "code",
   "execution_count": null,
   "metadata": {
    "colab": {},
    "colab_type": "code",
    "id": "jFKgc2Vpqy4U"
   },
   "outputs": [],
   "source": [
    "## GOOGLE DRIVE AUTHENTICATION\n",
    "# -codepk03\n",
    "auth.authenticate_user()\n",
    "gauth = GoogleAuth()\n",
    "gauth.credentials = GoogleCredentials.get_application_default()\n",
    "drive = GoogleDrive(gauth)"
   ]
  },
  {
   "cell_type": "code",
   "execution_count": null,
   "metadata": {
    "colab": {},
    "colab_type": "code",
    "id": "Zc8B4dQPsH7c"
   },
   "outputs": [],
   "source": [
    "## SEACHING FOR THE ZIP FILE AND THEN UNZIPPING IT IN COLAB AND DELETING UN-NECESSARY FILES\n",
    "\n",
    "fid = drive.ListFile({'q':\"title='fifa19.zip'\"}).GetList()[0]['id']\n",
    "f = drive.CreateFile({'id': fid})\n",
    "f.GetContentFile('fifa19.zip')\n",
    "with zipfile.ZipFile(\"fifa19.zip\",\"r\") as zip_ref:\n",
    "    zip_ref.extractall(\"fifa_data/\")\n",
    "os.unlink('fifa19.zip')"
   ]
  },
  {
   "cell_type": "code",
   "execution_count": null,
   "metadata": {
    "colab": {},
    "colab_type": "code",
    "id": "Uuh7HEIQshfS"
   },
   "outputs": [],
   "source": [
    "data = pd.read_csv('fifa_data/data.csv')"
   ]
  },
  {
   "cell_type": "code",
   "execution_count": null,
   "metadata": {
    "colab": {
     "base_uri": "https://localhost:8080/",
     "height": 355
    },
    "colab_type": "code",
    "id": "Lipzfz4NtHHJ",
    "outputId": "e09330aa-7a31-49dd-fb7b-617c890feadb"
   },
   "outputs": [],
   "source": [
    "data.head()"
   ]
  },
  {
   "cell_type": "code",
   "execution_count": null,
   "metadata": {
    "colab": {
     "base_uri": "https://localhost:8080/",
     "height": 363
    },
    "colab_type": "code",
    "id": "YhCnMrb8tH1G",
    "outputId": "026bca41-d89d-4c2b-af4e-b49dc7013034"
   },
   "outputs": [],
   "source": [
    "data.describe()"
   ]
  },
  {
   "cell_type": "code",
   "execution_count": null,
   "metadata": {
    "colab": {
     "base_uri": "https://localhost:8080/",
     "height": 289
    },
    "colab_type": "code",
    "id": "zGCm-qGevL2z",
    "outputId": "80d241fe-9583-4f39-8f20-8eb07dd2c6bc"
   },
   "outputs": [],
   "source": [
    "data.columns"
   ]
  },
  {
   "cell_type": "markdown",
   "metadata": {
    "colab_type": "text",
    "id": "luQ3tPHNpugO"
   },
   "source": [
    "## Initial insights"
   ]
  },
  {
   "cell_type": "code",
   "execution_count": null,
   "metadata": {
    "colab": {
     "base_uri": "https://localhost:8080/",
     "height": 640
    },
    "colab_type": "code",
    "id": "CjvJ7EolpgBi",
    "outputId": "02b38674-4549-4467-f89f-9bbdad2a2189"
   },
   "outputs": [],
   "source": [
    "plt.figure(figsize = (15,10))\n",
    "sns.boxplot(x = \"Work Rate\", y = \"Age\", data = data)\n",
    "plt.show()"
   ]
  },
  {
   "cell_type": "code",
   "execution_count": null,
   "metadata": {
    "colab": {
     "base_uri": "https://localhost:8080/",
     "height": 1071
    },
    "colab_type": "code",
    "id": "a2EG0Q8Gp5h2",
    "outputId": "939d5077-747b-4eb4-ab2b-fb982748ac62"
   },
   "outputs": [],
   "source": [
    "data.isna().sum().sort_values(ascending=False)"
   ]
  },
  {
   "cell_type": "markdown",
   "metadata": {
    "colab_type": "text",
    "id": "NCJ1NfSYp-83"
   },
   "source": [
    "Above stats shows that there are a lot of empty values and this large number can not be filled, so dropping the most empty columns woud help."
   ]
  },
  {
   "cell_type": "code",
   "execution_count": null,
   "metadata": {
    "colab": {},
    "colab_type": "code",
    "id": "684tKydip5fA"
   },
   "outputs": [],
   "source": [
    "data.drop('Loaned From',axis=1,inplace=True)"
   ]
  },
  {
   "cell_type": "code",
   "execution_count": null,
   "metadata": {
    "colab": {
     "base_uri": "https://localhost:8080/",
     "height": 338
    },
    "colab_type": "code",
    "id": "Dk8QHS98p5cT",
    "outputId": "019db76a-3c44-4ce7-a349-aca756465cc9"
   },
   "outputs": [],
   "source": [
    "data['Nationality'].value_counts()[:15].plot(kind='bar')\n",
    "plt.show()"
   ]
  },
  {
   "cell_type": "markdown",
   "metadata": {
    "colab_type": "text",
    "id": "8TGsOzU2p5a8"
   },
   "source": [
    "Most number of players are from England, Germany and Spain as expected since 3 major leagues games are played in football there."
   ]
  },
  {
   "cell_type": "code",
   "execution_count": null,
   "metadata": {
    "colab": {
     "base_uri": "https://localhost:8080/",
     "height": 355
    },
    "colab_type": "code",
    "id": "mPevV0-qtOoG",
    "outputId": "bdf23d09-3deb-49ef-835c-af51212e7274"
   },
   "outputs": [],
   "source": [
    "## lets drop unnecessary columns\n",
    "\n",
    "cols_to_be_dropped = ['ID','Unnamed: 0','Weak Foot','Release Clause','Wage','Photo', 'Nationality', 'Flag',\n",
    "                      'Club Logo', 'International Reputation',\n",
    "                      'Work Rate', 'Body Type', 'Real Face','Jersey Number', 'Joined', \n",
    "                      'Contract Valid Until','LS', 'ST', 'RS', 'LW', 'LF', 'CF', 'RF', \n",
    "                      'RW','LAM', 'CAM', 'RAM', 'LM', 'LCM', 'CM', 'RCM', 'RM', 'LWB', \n",
    "                      'LDM','CDM', 'RDM', 'RWB', 'LB', 'LCB','CB', 'RCB', 'RB',]\n",
    "data.drop(cols_to_be_dropped,axis=1,inplace=True)\n",
    "data.head()"
   ]
  },
  {
   "cell_type": "code",
   "execution_count": null,
   "metadata": {
    "colab": {},
    "colab_type": "code",
    "id": "pf95giSlwQ4a"
   },
   "outputs": [],
   "source": [
    "data['Difference'] = data['Potential']-data['Overall']\n",
    "\n",
    "def evolution(d):\n",
    "    if d==0:\n",
    "        return 'Stable'\n",
    "    elif d>1 and d<=5:\n",
    "        return 'Small'\n",
    "    elif d>6 and d<=10:\n",
    "        return 'Medium'\n",
    "    elif d>10:\n",
    "        return 'Large'\n",
    "   \n",
    " \n",
    "data['Evolution'] = data['Difference'].apply(evolution)\n",
    "promising = data.loc[(data['Evolution']== 'Large') & (data['Potential']>85)].sort_values(by='Potential', ascending=False)[:10]"
   ]
  },
  {
   "cell_type": "markdown",
   "metadata": {
    "colab_type": "text",
    "id": "qwml3ySNxbeA"
   },
   "source": [
    "MOST PROMISING YOUTH PLAYER WHO HAVE A VERY HIGH POTENTIAL OF BECOME GREAT ARE :"
   ]
  },
  {
   "cell_type": "code",
   "execution_count": null,
   "metadata": {
    "colab": {
     "base_uri": "https://localhost:8080/",
     "height": 359
    },
    "colab_type": "code",
    "id": "6XxIsmC-xlZh",
    "outputId": "2618b1fd-02f1-4ce5-8768-db6a648dd6dd"
   },
   "outputs": [],
   "source": [
    "cols  = ['Name','Club','Overall','Age','Potential','Value']\n",
    "promising[cols]"
   ]
  },
  {
   "cell_type": "code",
   "execution_count": null,
   "metadata": {
    "colab": {
     "base_uri": "https://localhost:8080/",
     "height": 345
    },
    "colab_type": "code",
    "id": "I3dqIcPzt5D3",
    "outputId": "0c06a361-65da-4c8c-e1c6-5243e7f6eab3"
   },
   "outputs": [],
   "source": [
    "sns.countplot(data['Preferred Foot'])\n",
    "plt.title('Player preferred Foot')"
   ]
  },
  {
   "cell_type": "code",
   "execution_count": null,
   "metadata": {
    "colab": {
     "base_uri": "https://localhost:8080/",
     "height": 671
    },
    "colab_type": "code",
    "id": "6BvlSSz7woLc",
    "outputId": "20740836-be07-403e-b51c-41d7b1f5a2cc"
   },
   "outputs": [],
   "source": [
    "plt.figure(figsize=(15,10))\n",
    "sns.countplot(data['Position'])\n",
    "plt.title('Number of players per position')"
   ]
  },
  {
   "cell_type": "code",
   "execution_count": null,
   "metadata": {
    "colab": {},
    "colab_type": "code",
    "id": "1KNxaOeZzY65"
   },
   "outputs": [],
   "source": [
    "from sklearn.preprocessing import StandardScaler\n",
    "from sklearn.neighbors import NearestNeighbors\n",
    "from sklearn.decomposition import PCA"
   ]
  },
  {
   "cell_type": "code",
   "execution_count": null,
   "metadata": {
    "colab": {
     "base_uri": "https://localhost:8080/",
     "height": 153
    },
    "colab_type": "code",
    "id": "FRzkNdaFB3EE",
    "outputId": "9c89781d-d54d-4153-83d3-fe483be369bf"
   },
   "outputs": [],
   "source": [
    "# chooosing only import attritubes\n",
    "data = pd.read_csv('fifa_data/data.csv')\n",
    "\n",
    "attributes = data.iloc[:, 54:83]\n",
    "attributes['Skill Moves'] = data['Skill Moves']\n",
    "workrate = data['Work Rate'].str.get_dummies(sep='/ ')\n",
    "attributes = pd.concat([attributes, workrate], axis=1)\n",
    "df = attributes\n",
    "attributes = attributes.dropna()\n",
    "df['Name'] = data['Name']\n",
    "df = df.dropna()\n",
    "print(attributes.columns)"
   ]
  },
  {
   "cell_type": "code",
   "execution_count": null,
   "metadata": {
    "colab": {
     "base_uri": "https://localhost:8080/",
     "height": 270
    },
    "colab_type": "code",
    "id": "jmtlFXeFCGoa",
    "outputId": "9c892975-c174-4fc7-cbdf-fce351f621fd"
   },
   "outputs": [],
   "source": [
    "attributes.head()"
   ]
  },
  {
   "cell_type": "code",
   "execution_count": null,
   "metadata": {
    "colab": {
     "base_uri": "https://localhost:8080/",
     "height": 105
    },
    "colab_type": "code",
    "id": "ms7bT8c_CLcF",
    "outputId": "74c7a05b-3e13-4efe-edfe-6835f158a526"
   },
   "outputs": [],
   "source": [
    "scaled = StandardScaler()\n",
    "X = scaled.fit_transform(attributes)"
   ]
  },
  {
   "cell_type": "code",
   "execution_count": null,
   "metadata": {
    "colab": {
     "base_uri": "https://localhost:8080/",
     "height": 51
    },
    "colab_type": "code",
    "id": "_OGNKuW0CPQs",
    "outputId": "4d0ce1d5-9aca-439a-8cb0-09c24cd6418d"
   },
   "outputs": [],
   "source": [
    "recommendations = NearestNeighbors(n_neighbors=6,algorithm='ball_tree')\n",
    "recommendations.fit(X)"
   ]
  },
  {
   "cell_type": "code",
   "execution_count": null,
   "metadata": {
    "colab": {},
    "colab_type": "code",
    "id": "AEzhy-wwCXGG"
   },
   "outputs": [],
   "source": [
    "player_index = recommendations.kneighbors(X)[1]"
   ]
  },
  {
   "cell_type": "code",
   "execution_count": null,
   "metadata": {
    "colab": {
     "base_uri": "https://localhost:8080/",
     "height": 136
    },
    "colab_type": "code",
    "id": "qOqluYCqCYXp",
    "outputId": "5fe0da05-abca-4cbe-cb72-84d2ffe7c9f3"
   },
   "outputs": [],
   "source": [
    "player_index"
   ]
  },
  {
   "cell_type": "code",
   "execution_count": null,
   "metadata": {
    "colab": {},
    "colab_type": "code",
    "id": "PkNofBOqCZ4u"
   },
   "outputs": [],
   "source": [
    "def get_index(x):\n",
    "    return df[df['Name']==x].index.tolist()[0]\n",
    "\n",
    "def recommend_me(player):\n",
    "    print(\"5 Players similar to {} are : \".format(player))\n",
    "    index=  get_index(player)\n",
    "    for i in player_index[index][1:]:\n",
    "        print(df.iloc[i]['Name'])"
   ]
  },
  {
   "cell_type": "code",
   "execution_count": null,
   "metadata": {
    "colab": {
     "base_uri": "https://localhost:8080/",
     "height": 119
    },
    "colab_type": "code",
    "id": "a3Ut2yzlCeav",
    "outputId": "d5a1f4ac-ab61-4877-86ac-1778e7fd8f8e"
   },
   "outputs": [],
   "source": [
    "recommend_me('L. Messi')"
   ]
  },
  {
   "cell_type": "code",
   "execution_count": null,
   "metadata": {
    "colab": {
     "base_uri": "https://localhost:8080/",
     "height": 119
    },
    "colab_type": "code",
    "id": "HDTjOJV4CgWv",
    "outputId": "bfe7607b-967e-48c2-ca03-726573243d71"
   },
   "outputs": [],
   "source": [
    "recommend_me('Cristiano Ronaldo')"
   ]
  },
  {
   "cell_type": "code",
   "execution_count": null,
   "metadata": {
    "colab": {
     "base_uri": "https://localhost:8080/",
     "height": 119
    },
    "colab_type": "code",
    "id": "gn3QsqKtCovj",
    "outputId": "f9e2a34c-8a71-4494-f27e-1cd675dffe85"
   },
   "outputs": [],
   "source": [
    "recommend_me(player='De Gea')"
   ]
  },
  {
   "cell_type": "code",
   "execution_count": null,
   "metadata": {
    "colab": {
     "base_uri": "https://localhost:8080/",
     "height": 119
    },
    "colab_type": "code",
    "id": "tsK1Py7GyJyA",
    "outputId": "582c2a09-bb4f-4e33-b1b4-96e3d1456ffa"
   },
   "outputs": [],
   "source": [
    "recommend_me(player='K. De Bruyne')"
   ]
  },
  {
   "cell_type": "code",
   "execution_count": null,
   "metadata": {
    "colab": {},
    "colab_type": "code",
    "id": "1uAxPhNDyOvF"
   },
   "outputs": [],
   "source": []
  }
 ],
 "metadata": {
  "colab": {
   "collapsed_sections": [],
   "include_colab_link": true,
   "name": "FIFA 19 Player similar recommender.ipynb",
   "provenance": [],
   "version": "0.3.2"
  },
  "kernelspec": {
   "display_name": "Python 3",
   "language": "python",
   "name": "python3"
  },
  "language_info": {
   "codemirror_mode": {
    "name": "ipython",
    "version": 3
   },
   "file_extension": ".py",
   "mimetype": "text/x-python",
   "name": "python",
   "nbconvert_exporter": "python",
   "pygments_lexer": "ipython3",
   "version": "3.5.5"
  }
 },
 "nbformat": 4,
 "nbformat_minor": 1
}
